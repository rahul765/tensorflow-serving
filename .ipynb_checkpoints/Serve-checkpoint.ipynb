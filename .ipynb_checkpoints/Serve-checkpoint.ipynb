{
 "cells": [
  {
   "cell_type": "code",
   "execution_count": 1,
   "metadata": {},
   "outputs": [],
   "source": [
    "import tensorflow as tf\n",
    "import os\n",
    "\n",
    "SAVE_PATH = './save'\n",
    "MODEL_NAME = 'test'\n",
    "VERSION = 1\n",
    "SERVE_PATH = './serve/{}/{}'.format(MODEL_NAME, VERSION)"
   ]
  },
  {
   "cell_type": "code",
   "execution_count": 2,
   "metadata": {},
   "outputs": [],
   "source": [
    "checkpoint = tf.train.latest_checkpoint(SAVE_PATH)"
   ]
  },
  {
   "cell_type": "code",
   "execution_count": 3,
   "metadata": {},
   "outputs": [],
   "source": [
    "tf.reset_default_graph()"
   ]
  },
  {
   "cell_type": "code",
   "execution_count": 4,
   "metadata": {},
   "outputs": [
    {
     "name": "stdout",
     "output_type": "stream",
     "text": [
      "INFO:tensorflow:No assets to save.\n",
      "INFO:tensorflow:No assets to write.\n",
      "INFO:tensorflow:SavedModel written to: ./serve/test/1/saved_model.pb\n"
     ]
    }
   ],
   "source": [
    "with tf.Session() as sess:\n",
    "    # Import the saved graph\n",
    "    saver = tf.train.import_meta_graph(checkpoint + '.meta')\n",
    "    # get the graph for this session\n",
    "    graph = tf.get_default_graph()\n",
    "    sess.run(tf.global_variables_initializer())\n",
    "    # get the tensor that we need\n",
    "    inputs = graph.get_tensor_by_name('inputs:0')\n",
    "    predictions = graph.get_tensor_by_name('prediction/Sigmoid:0')\n",
    "\n",
    "    # Create tensor info\n",
    "    model_input = tf.saved_model.utils.build_tensor_info(inputs)\n",
    "    model_output = tf.saved_model.utils.build_tensor_info(predictions)\n",
    "\n",
    "    # Build signature definition\n",
    "    signature_definition = tf.saved_model.signature_def_utils.build_signature_def(\n",
    "    inputs={'inputs':model_input},\n",
    "    outputs = {'outputs': model_output},\n",
    "    method_name=tf.saved_model.signature_constants.PREDICT_METHOD_NAME)\n",
    "\n",
    "    # Prediction API constants\n",
    "\n",
    "    # Predict inputs.\n",
    "    PREDICT_INPUTS = 'inputs'\n",
    "\n",
    "    # Prediction method name used in a SignatureDef.\n",
    "    PREDICT_METHOD_NAME = 'tensorflow/serving/predict'\n",
    "\n",
    "    #Precict outputs.\n",
    "    PREDICT_OUTPUTS = 'outputs'\n",
    "\n",
    "    builder = tf.saved_model.builder.SavedModelBuilder(SERVE_PATH)\n",
    "\n",
    "    builder.add_meta_graph_and_variables(\n",
    "    sess, [tf.saved_model.tag_constants.SERVING],\n",
    "    signature_def_map={\n",
    "        tf.saved_model.signature_constants.DEFAULT_SERVING_SIGNATURE_DEF_KEY: signature_definition\n",
    "    })\n",
    "\n",
    "    # save the model so that we can serve it with amodel server\n",
    "    builder.save()"
   ]
  },
  {
   "cell_type": "code",
   "execution_count": null,
   "metadata": {},
   "outputs": [],
   "source": []
  }
 ],
 "metadata": {
  "kernelspec": {
   "display_name": "Python 3",
   "language": "python",
   "name": "python3"
  },
  "language_info": {
   "codemirror_mode": {
    "name": "ipython",
    "version": 3
   },
   "file_extension": ".py",
   "mimetype": "text/x-python",
   "name": "python",
   "nbconvert_exporter": "python",
   "pygments_lexer": "ipython3",
   "version": "3.6.8"
  }
 },
 "nbformat": 4,
 "nbformat_minor": 2
}
