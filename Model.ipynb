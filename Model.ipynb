{
 "cells": [
  {
   "cell_type": "code",
   "execution_count": 1,
   "metadata": {},
   "outputs": [],
   "source": [
    "import tensorflow as tf\n",
    "import numpy as np\n",
    "import os, sys"
   ]
  },
  {
   "cell_type": "code",
   "execution_count": 2,
   "metadata": {},
   "outputs": [],
   "source": [
    "DATA_SIZE = 100\n",
    "SAVE_PATH = './save'\n",
    "EPOCHS = 1000\n",
    "LEARNING_RATE = 0.01\n",
    "MODEL_NAME = 'test'"
   ]
  },
  {
   "cell_type": "code",
   "execution_count": 3,
   "metadata": {},
   "outputs": [],
   "source": [
    "if not os.path.exists(SAVE_PATH):\n",
    "    os.mkdir(SAVE_PATH)"
   ]
  },
  {
   "cell_type": "code",
   "execution_count": 4,
   "metadata": {},
   "outputs": [],
   "source": [
    "data = (np.random.rand(DATA_SIZE,2), np.random.rand(DATA_SIZE,1))\n",
    "test = (np.random.rand(DATA_SIZE//8,2),np.random.rand(DATA_SIZE//8,1))"
   ]
  },
  {
   "cell_type": "code",
   "execution_count": 5,
   "metadata": {},
   "outputs": [],
   "source": [
    "tf.reset_default_graph()"
   ]
  },
  {
   "cell_type": "code",
   "execution_count": 6,
   "metadata": {},
   "outputs": [],
   "source": [
    "x = tf.placeholder(tf.float32, shape=[None,2], name='inputs')\n",
    "y = tf.placeholder(tf.float32, shape=[None,1], name='targets')"
   ]
  },
  {
   "cell_type": "code",
   "execution_count": 7,
   "metadata": {},
   "outputs": [],
   "source": [
    "net = tf.layers.dense(x, 16, activation=tf.nn.relu)\n",
    "net = tf.layers.dense(net,16, activation=tf.nn.relu)\n",
    "pred = tf.layers.dense(net,1, activation=tf.nn.sigmoid, name='prediction')"
   ]
  },
  {
   "cell_type": "code",
   "execution_count": 8,
   "metadata": {},
   "outputs": [] ,
   "source": [
    "loss = tf.reduce_mean(tf.squared_difference(y,pred), name='loss')\n",

    "train_step = tf.train.AdamOptimizer(LEARNING_RATE).minimize(loss)"
   ]
  },
  {
   "cell_type": "code",
   "execution_count": 9,
   "metadata": {},
   "outputs": [],
   "source": [
    "checkpoint = tf.train.latest_checkpoint(SAVE_PATH)\n",
    "should_train = checkpoint == None"
   ]
  },
  {
   "cell_type": "code",
   "execution_count": 10,
   "metadata": {},
   "outputs": [
    {
     "name": "stdout",
     "output_type": "stream",
     "text": [
      "Restoring\n",
      "INFO:tensorflow:Restoring parameters from ./save/test.ckpt\n",
      "[[0.4023808 ]\n",
      " [0.42370906]\n",
      " [0.45365578]\n",
      " [0.43459472]\n",
      " [0.3965426 ]\n",
      " [0.45000026]\n",
      " [0.47946784]\n",
      " [0.47007632]\n",
      " [0.49117398]\n",
      " [0.42867512]]\n",
      "TEST LOSS = 0.0573\n"
     ]
    }
   ],
   "source": [
    "with tf.Session() as sess:\n",
    "    sess.run(tf.global_variables_initializer())\n",
    "    if should_train:\n",
    "        print(\"Training\")\n",
    "        saver = tf.train.Saver()\n",
    "        for epoch in range(EPOCHS):\n",
    "            _, curr_loss = sess.run([train_step,loss], feed_dict={x : data[0], y:data[1]})\n",
    "            print('EPOCH = {}, LOSS = {:0.4f}'.format(epoch, curr_loss))\n",
    "        path = saver.save(sess, SAVE_PATH +'/' + MODEL_NAME + '.ckpt')\n",
    "        print(\"saved at {}\".format(path))\n",
    "    else:\n",
    "        print(\"Restoring\")\n",
    "        graph = tf.get_default_graph()\n",
    "        saver = tf.train.import_meta_graph(checkpoint+'.meta')\n",
    "        saver.restore(sess, checkpoint)\n",
    "        \n",
    "        loss = graph.get_tensor_by_name('loss:0')\n",
    "        \n",
    "        test_loss = sess.run(loss, feed_dict={'inputs:0':test[0],'targets:0':test[1]})\n",
    "        \n",
    "        print(sess.run(pred, feed_dict = {'inputs:0': np.random.rand(10,2)}))\n",
    "        print(\"TEST LOSS = {:0.4f}\".format(test_loss))\n",
    "            \n",
    "            \n",
    "            \n",
    "            \n",
    "            \n",
    "            "
   ]
  },
  {
   "cell_type": "code",
   "execution_count": null,
   "metadata": {},
   "outputs": [],
   "source": []
  }
 ],
 "metadata": {
  "kernelspec": {
   "display_name": "Python 3",
   "language": "python",
   "name": "python3"
  },
  "language_info": {
   "codemirror_mode": {
    "name": "ipython",
    "version": 3
   },
   "file_extension": ".py",
   "mimetype": "text/x-python",
   "name": "python",
   "nbconvert_exporter": "python",
   "pygments_lexer": "ipython3",
   "version": "3.6.8"
  }
 },
 "nbformat": 4,
 "nbformat_minor": 2
}
